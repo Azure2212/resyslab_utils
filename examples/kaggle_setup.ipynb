{
 "cells": [
  {
   "cell_type": "code",
   "execution_count": null,
   "metadata": {},
   "outputs": [],
   "source": [
    "# 1) remember this !\n",
    "'NGROK_TOKEN_1', 'ID_RSA_PUB', 'SSH_PASS'"
   ]
  },
  {
   "cell_type": "code",
   "execution_count": null,
   "metadata": {},
   "outputs": [],
   "source": [
    "# 2) clone Tuan's resyslab (always required whenever starting a session in kaggle)\n",
    "import os\n",
    "if not os.path.exists('/kaggle/working/resyslab_utils'):\n",
    "    !git clone https://github.com/Azure2212/resyslab_utils.git\n",
    "%run /kaggle/working/resyslab_utils/resyslab_utils/clouds/cloud_setup.py"
   ]
  },
  {
   "cell_type": "code",
   "execution_count": null,
   "metadata": {},
   "outputs": [],
   "source": [
    "# 3) connect kaggle(remote) to visual studio code(local)\n",
    "connect_vscode()"
   ]
  },
  {
   "cell_type": "code",
   "execution_count": null,
   "metadata": {},
   "outputs": [],
   "source": [
    "# 4) set authority right to push to github by using ssh\n",
    "setup_github_config(private_key_path = '/kaggle/input/sgudct122c2knowledgetreekey/sgudct122c2knowledgetree')"
   ]
  },
  {
   "cell_type": "code",
   "execution_count": null,
   "metadata": {},
   "outputs": [],
   "source": [
    "# 5) pull code from github into kaggle using ssh private key setted up in previous step\n",
    "clone_project_from_github(giturl = 'git@github.com:Azure2212/20032024DCT122C2.git', folder = '/kaggle/working/sgu24project2', branch = 'DEV')"
   ]
  },
  {
   "cell_type": "code",
   "execution_count": null,
   "metadata": {},
   "outputs": [],
   "source": [
    "# 6) command format to push to github(remote)\n",
    "!git checkout DEV # remember cd your project\n",
    "!git add .\n",
    "!git config --global user.email \"Dasanbob\"\n",
    "!git config --global user.name \"Tran Anh Tuan\"\n",
    "!git commit -m \"your comment\"\n",
    "!git push origin DEV"
   ]
  }
 ],
 "metadata": {
  "language_info": {
   "name": "python"
  }
 },
 "nbformat": 4,
 "nbformat_minor": 2
}
