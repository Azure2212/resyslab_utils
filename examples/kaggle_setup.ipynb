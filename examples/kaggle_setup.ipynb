{
 "cells": [
  {
   "cell_type": "code",
   "execution_count": null,
   "metadata": {},
   "outputs": [],
   "source": [
    "# clone Tuan's resyslab\n",
    "import os\n",
    "if not os.path.exists('/kaggle/working/resyslab_utils'):\n",
    "    !git clone --branch DEV https://github.com/Azure2212/resyslab_utils.git"
   ]
  },
  {
   "cell_type": "code",
   "execution_count": null,
   "metadata": {},
   "outputs": [],
   "source": [
    "# connect kaggle(remote) to visual studio code(local)\n",
    "%run /kaggle/working/resyslab_utils/resyslab_utils/clouds/connect_vsc.py"
   ]
  },
  {
   "cell_type": "code",
   "execution_count": null,
   "metadata": {},
   "outputs": [],
   "source": [
    "# pull code from github into kaggle using ssh private key \n",
    "%run /kaggle/working/resyslab_utils/resyslab_utils/clouds/clone_project_by_private_key_ssh.py \\\n",
    "        --giturl 'git@github.com:dntai/sgu24prj.git' \\\n",
    "        --folder '/kaggle/working/sgu24project' \\\n",
    "        --branch 'dev' \\\n",
    "        --private-key-path '/kaggle/input/sgu24-prj-data/data/ssh/sguprj24_rsa'"
   ]
  },
  {
   "cell_type": "code",
   "execution_count": null,
   "metadata": {},
   "outputs": [],
   "source": [
    "#set authority right to push to github by using ssh\n",
    "%run /kaggle/working/resyslab_utils/resyslab_utils/clouds/set_authority_private_key_name.py --private-key-name 'sguprj24_rsa'"
   ]
  },
  {
   "cell_type": "code",
   "execution_count": null,
   "metadata": {},
   "outputs": [],
   "source": [
    "#command format to push to github(remote)\n",
    "!git checkout dev\n",
    "!git add .\n",
    "!git config --global user.email \"Dasanbob\"\n",
    "!git config --global user.name \"Tran Anh Tuan\"\n",
    "!git commit -m \"fix bug loss using CategoricalCrossentropy instead of SparseCategoricalCrossentropy\"\n",
    "!git push origin dev"
   ]
  }
 ],
 "metadata": {
  "language_info": {
   "name": "python"
  }
 },
 "nbformat": 4,
 "nbformat_minor": 2
}
