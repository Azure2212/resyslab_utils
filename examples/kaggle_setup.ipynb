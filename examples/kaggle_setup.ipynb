{
 "cells": [
  {
   "cell_type": "code",
   "execution_count": null,
   "metadata": {},
   "outputs": [],
   "source": [
    "# clone Tuan's resyslab\n",
    "import os\n",
    "if not os.path.exists('/kaggle/working/resyslab_utils'):\n",
    "    !git clone --branch DEV https://github.com/Azure2212/resyslab_utils.git"
   ]
  }
 ],
 "metadata": {
  "language_info": {
   "name": "python"
  }
 },
 "nbformat": 4,
 "nbformat_minor": 2
}
